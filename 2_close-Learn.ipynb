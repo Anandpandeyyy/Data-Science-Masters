{
 "cells": [
  {
   "cell_type": "code",
   "execution_count": 1,
   "id": "f4d2ee72-ca06-4967-a702-94e88e17a4a8",
   "metadata": {},
   "outputs": [
    {
     "name": "stdout",
     "output_type": "stream",
     "text": [
      "hello World\n"
     ]
    }
   ],
   "source": [
    "print(\"hello World\")\n"
   ]
  },
  {
   "cell_type": "code",
   "execution_count": 8,
   "id": "18fa1fa3-3763-4ad0-a486-103ffea207a7",
   "metadata": {},
   "outputs": [
    {
     "name": "stdout",
     "output_type": "stream",
     "text": [
      "my dogs age is : age\n",
      "my dogs age is : 30\n",
      "my dogs age is : 30\n"
     ]
    }
   ],
   "source": [
    "age = 30\n",
    "print(\"my dogs age is : age\")\n",
    "print(\"my dogs age is :\", age)\n",
    "## f stands for format\n",
    "print(f\"my dogs age is : {age}\")"
   ]
  },
  {
   "cell_type": "code",
   "execution_count": null,
   "id": "91e00605-1721-4e07-bb5a-314c2b0f481e",
   "metadata": {},
   "outputs": [],
   "source": [
    "##format\n",
    "name= \"jacob\"\n",
    "age= 20\n",
    "\n",
    "print(\"Hockey player name is {} and their age is {} \".format(name,age))"
   ]
  },
  {
   "cell_type": "code",
   "execution_count": null,
   "id": "85918ee4-1f1f-4c6e-abdb-af5864546ba0",
   "metadata": {},
   "outputs": [],
   "source": [
    "name= \"jacob\"\n",
    "age= 20\n",
    "\n",
    "print(f\"Hockey player name is {name} and their age is {age} \")"
   ]
  },
  {
   "cell_type": "code",
   "execution_count": null,
   "id": "7ebad1b6-1ab3-4ef8-a6e2-5b389c368b69",
   "metadata": {},
   "outputs": [],
   "source": [
    "## placeholder\n",
    "name= \"jacob\"\n",
    "age= 20\n",
    "\n",
    "print(\"Hockey player name is {player_name} and their age is {player_age} \".format(player_name=name,player_age=age))"
   ]
  },
  {
   "cell_type": "code",
   "execution_count": null,
   "id": "ffa24cac-499a-40de-9d3c-df19b373c355",
   "metadata": {},
   "outputs": [],
   "source": []
  },
  {
   "cell_type": "markdown",
   "id": "50b4b6f4-73d3-49ba-a7b2-4f284118a876",
   "metadata": {},
   "source": [
    "## Control Flow\n",
    "### Decison Making Statements\n",
    "* if\n",
    "* if else\n",
    "* if elif else\n",
    "* nested if\n",
    "* single statement suites\n"
   ]
  },
  {
   "cell_type": "code",
   "execution_count": null,
   "id": "d8377e04-9650-4ada-a54c-ed73b776de67",
   "metadata": {},
   "outputs": [],
   "source": [
    "## Task\n",
    "## take a input of age\n",
    "## check whether age>=18 and age<=45\n",
    "## display a message you are young blood"
   ]
  },
  {
   "cell_type": "code",
   "execution_count": null,
   "id": "3cdf443d-dd46-4453-b638-73f45e8c7afc",
   "metadata": {},
   "outputs": [],
   "source": [
    "age = int(input(\"Enter your age\"))\n",
    "\n",
    "if age>=18 and age<=45 :\n",
    "     print(\"you are young blood\")\n"
   ]
  },
  {
   "cell_type": "code",
   "execution_count": 28,
   "id": "0d234dba-bb52-41f7-b32c-d012973fb2e9",
   "metadata": {
    "tags": []
   },
   "outputs": [
    {
     "name": "stdin",
     "output_type": "stream",
     "text": [
      "Enter your age 60\n"
     ]
    },
    {
     "name": "stdout",
     "output_type": "stream",
     "text": [
      "you are old one\n"
     ]
    }
   ],
   "source": [
    "age = int(input(\"Enter your age\"))\n",
    "\n",
    "if age>=18 and age<=45 :\n",
    "     print(\"you are young blood\")\n",
    "else:\n",
    "    print(\"you are old one\")\n"
   ]
  },
  {
   "cell_type": "code",
   "execution_count": 29,
   "id": "86cdc872-5375-4027-b91c-e0071066ad99",
   "metadata": {},
   "outputs": [],
   "source": [
    "## mall - input the product price\n",
    "## product >1000 rs and get 20% off\n",
    "## print the product price after removing the discount\n",
    "## product <1000 rs and get 30 % off\n",
    "## print the product price after removing the discount"
   ]
  },
  {
   "cell_type": "code",
   "execution_count": null,
   "id": "903c3d26-7b4f-4c6f-8824-35d216126c71",
   "metadata": {},
   "outputs": [],
   "source": [
    "\"\"\"\n",
    "product_price = int(input(\"Enter the product price\"))\n",
    "\n",
    " if product_price >1000 or product_price<1000 :\n",
    " dis_price= int(input(\"Enter the discount price\"))\n",
    "             pr_price= (product_price*dis_price)/100\n",
    "   fin_price =  product_price-pr_price\n",
    "  \n",
    "  print(\"After discount product price is {pr_price}\")\n",
    "else:\n",
    " print(\"it is not lies between given condition\")\n",
    " \"\"\"\n"
   ]
  },
  {
   "cell_type": "code",
   "execution_count": null,
   "id": "7fde8adf-ef5e-4339-9d91-ed86028d48d7",
   "metadata": {},
   "outputs": [],
   "source": [
    "product_price = int(input(\"Enter the product price: \"))\n",
    "if product_price>1000:\n",
    "     print(\"disconted final price is {}\".format(product_price*0.8))\n",
    "else :\n",
    "     print(\"disconted final price is {}\".format(product_price*0.7))\n",
    "\n",
    "        "
   ]
  },
  {
   "cell_type": "code",
   "execution_count": null,
   "id": "2e76341f-b863-466b-abe8-fca8eaf26cc4",
   "metadata": {},
   "outputs": [],
   "source": [
    "product_price = int(input(\"Enter the product price\"))\n",
    "\n",
    "if product_price > 1000  :\n",
    "    pprice = float(input(\"Enter the pprice\"))\n",
    "    pr_price= product_price*pprice\n",
    "    print(f\"After discount product price is {pr_price}\")\n",
    "else:\n",
    "    print(\"it is not lies between given condition\")\n",
    " \n"
   ]
  },
  {
   "cell_type": "code",
   "execution_count": null,
   "id": "29e227cf-6ff2-4347-be73-7f83eae920eb",
   "metadata": {},
   "outputs": [],
   "source": []
  }
 ],
 "metadata": {
  "kernelspec": {
   "display_name": "Python 3 (ipykernel)",
   "language": "python",
   "name": "python3"
  },
  "language_info": {
   "codemirror_mode": {
    "name": "ipython",
    "version": 3
   },
   "file_extension": ".py",
   "mimetype": "text/x-python",
   "name": "python",
   "nbconvert_exporter": "python",
   "pygments_lexer": "ipython3",
   "version": "3.10.8"
  }
 },
 "nbformat": 4,
 "nbformat_minor": 5
}
